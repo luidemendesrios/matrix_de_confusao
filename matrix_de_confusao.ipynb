{
  "nbformat": 4,
  "nbformat_minor": 0,
  "metadata": {
    "colab": {
      "provenance": [],
      "authorship_tag": "ABX9TyPE76spceLCOHBxhn7bkW0q",
      "include_colab_link": true
    },
    "kernelspec": {
      "name": "python3",
      "display_name": "Python 3"
    },
    "language_info": {
      "name": "python"
    }
  },
  "cells": [
    {
      "cell_type": "markdown",
      "metadata": {
        "id": "view-in-github",
        "colab_type": "text"
      },
      "source": [
        "<a href=\"https://colab.research.google.com/github/luidemendesrios/matrix_de_confusao/blob/main/matrix_de_confusao.ipynb\" target=\"_parent\"><img src=\"https://colab.research.google.com/assets/colab-badge.svg\" alt=\"Open In Colab\"/></a>"
      ]
    },
    {
      "cell_type": "markdown",
      "source": [
        "# **Intalação do TensorFlow**"
      ],
      "metadata": {
        "id": "DLEBqEVqQpGe"
      }
    },
    {
      "cell_type": "code",
      "source": [
        "pip install -q tensorflow"
      ],
      "metadata": {
        "id": "ZWnEx_pPQdMc"
      },
      "execution_count": 6,
      "outputs": []
    },
    {
      "cell_type": "markdown",
      "source": [
        "# **Importações de bibliotecas que serão necessárias para o projeto**"
      ],
      "metadata": {
        "id": "SYMP16cFQp6l"
      }
    },
    {
      "cell_type": "code",
      "source": [
        "from tensorflow.keras import datasets, layers, models # Importa módulos essenciais do Keras.\n",
        "import matplotlib.pyplot as plt # Importa o módulo pyplot para visualização de dados.\n",
        "import tensorflow as tf # Importa o TensorFlow completo para operações de aprendizado de máquina.\n",
        "\n",
        "import numpy as np # Importa o NumPy para operações com arrays.\n",
        "\n",
        "import seaborn as sns # Importa o Seaborn para gráficos estatísticos.\n",
        "\n",
        "import pandas as pd # Importa o Pandas para manipulação de dados em DataFrames."
      ],
      "metadata": {
        "id": "si_UbX6wQqdc"
      },
      "execution_count": 7,
      "outputs": []
    },
    {
      "cell_type": "code",
      "source": [
        "tf.__version__ # Verifica a versão do TensorFlow instalada."
      ],
      "metadata": {
        "colab": {
          "base_uri": "https://localhost:8080/",
          "height": 36
        },
        "id": "3CepFFWUQvz8",
        "outputId": "7466674b-c3b8-4ffc-bc49-b054f5299d71"
      },
      "execution_count": 8,
      "outputs": [
        {
          "output_type": "execute_result",
          "data": {
            "text/plain": [
              "'2.17.1'"
            ],
            "application/vnd.google.colaboratory.intrinsic+json": {
              "type": "string"
            }
          },
          "metadata": {},
          "execution_count": 8
        }
      ]
    },
    {
      "cell_type": "code",
      "source": [
        "!pip install tensorboard #instala o tensorboard"
      ],
      "metadata": {
        "colab": {
          "base_uri": "https://localhost:8080/"
        },
        "id": "evOyaRiVRZ4E",
        "outputId": "acfb3bf7-0462-401f-f4bf-5550a9abd7f1"
      },
      "execution_count": 10,
      "outputs": [
        {
          "output_type": "stream",
          "name": "stdout",
          "text": [
            "Requirement already satisfied: tensorboard in /usr/local/lib/python3.10/dist-packages (2.18.0)\n",
            "Requirement already satisfied: absl-py>=0.4 in /usr/local/lib/python3.10/dist-packages (from tensorboard) (1.4.0)\n",
            "Requirement already satisfied: grpcio>=1.48.2 in /usr/local/lib/python3.10/dist-packages (from tensorboard) (1.68.1)\n",
            "Requirement already satisfied: markdown>=2.6.8 in /usr/local/lib/python3.10/dist-packages (from tensorboard) (3.7)\n",
            "Requirement already satisfied: numpy>=1.12.0 in /usr/local/lib/python3.10/dist-packages (from tensorboard) (1.26.4)\n",
            "Requirement already satisfied: packaging in /usr/local/lib/python3.10/dist-packages (from tensorboard) (24.2)\n",
            "Requirement already satisfied: protobuf!=4.24.0,>=3.19.6 in /usr/local/lib/python3.10/dist-packages (from tensorboard) (4.25.5)\n",
            "Requirement already satisfied: setuptools>=41.0.0 in /usr/local/lib/python3.10/dist-packages (from tensorboard) (75.1.0)\n",
            "Requirement already satisfied: six>1.9 in /usr/local/lib/python3.10/dist-packages (from tensorboard) (1.17.0)\n",
            "Requirement already satisfied: tensorboard-data-server<0.8.0,>=0.7.0 in /usr/local/lib/python3.10/dist-packages (from tensorboard) (0.7.2)\n",
            "Requirement already satisfied: werkzeug>=1.0.1 in /usr/local/lib/python3.10/dist-packages (from tensorboard) (3.1.3)\n",
            "Requirement already satisfied: MarkupSafe>=2.1.1 in /usr/local/lib/python3.10/dist-packages (from werkzeug>=1.0.1->tensorboard) (3.0.2)\n"
          ]
        }
      ]
    },
    {
      "cell_type": "code",
      "source": [
        "%load_ext tensorboard #Verifica se o TensorBoard está instalado corretamente"
      ],
      "metadata": {
        "id": "-lUDRl2XRu-O"
      },
      "execution_count": 11,
      "outputs": []
    },
    {
      "cell_type": "code",
      "source": [
        "logdir='log' # Define o diretório para os logs do TensorBoard."
      ],
      "metadata": {
        "id": "sCXar_ofQzLk"
      },
      "execution_count": 12,
      "outputs": []
    },
    {
      "cell_type": "markdown",
      "source": [
        "# **Carregamento e Preparação dos Dados**"
      ],
      "metadata": {
        "id": "1EzGAmY2j5MV"
      }
    },
    {
      "cell_type": "code",
      "source": [
        "(train_images, train_labels), (test_images, test_labels) = datasets.mnist.load_data() # Carrega o conjunto de dados MNIST.\n",
        "\n",
        "# Reshape das imagens de treino e teste para serem usadas em redes neurais convolucionais (adiciona uma dimensão para a cor, que no caso do MNIST é escala de cinza).\n",
        "train_images = train_images.reshape((60000, 28, 28, 1))\n",
        "test_images = test_images.reshape((10000, 28, 28, 1))\n",
        "\n",
        "# Normaliza as imagens de treino e teste dividindo seus valores por 255.0, para que os valores dos pixels estejam entre 0 e 1.\n",
        "train_images, test_images = train_images / 255.0, test_images / 255.0\n",
        "\n",
        "classes=[0,1,2,3,4,5,6,7,8,9] # Define as classes do conjunto de dados MNIST (dígitos de 0 a 9)."
      ],
      "metadata": {
        "colab": {
          "base_uri": "https://localhost:8080/"
        },
        "id": "hRA9XYDBQ16s",
        "outputId": "6a9df4a9-ffcb-4f20-9223-788f8303919b"
      },
      "execution_count": 13,
      "outputs": [
        {
          "output_type": "stream",
          "name": "stdout",
          "text": [
            "Downloading data from https://storage.googleapis.com/tensorflow/tf-keras-datasets/mnist.npz\n",
            "\u001b[1m11490434/11490434\u001b[0m \u001b[32m━━━━━━━━━━━━━━━━━━━━\u001b[0m\u001b[37m\u001b[0m \u001b[1m0s\u001b[0m 0us/step\n"
          ]
        }
      ]
    },
    {
      "cell_type": "markdown",
      "source": [
        "# **Construção e Treinamento do Modelo**"
      ],
      "metadata": {
        "id": "ljb01yUikE29"
      }
    },
    {
      "cell_type": "code",
      "source": [
        "model = models.Sequential() # Inicia a construção de um modelo sequencial.\n",
        "\n",
        "# Adiciona camadas convolucionais e de pooling ao modelo\n",
        "model.add(layers.Conv2D(32, (3, 3), activation='relu', input_shape=(28, 28, 1)))\n",
        "model.add(layers.MaxPooling2D((2, 2)))\n",
        "model.add(layers.Conv2D(64, (3, 3), activation='relu'))\n",
        "model.add(layers.MaxPooling2D((2, 2)))\n",
        "model.add(layers.Conv2D(64, (3, 3), activation='relu'))\n",
        "\n",
        "# Adiciona camadas totalmente conectadas (densas) ao modelo.\n",
        "model.add(layers.Flatten())\n",
        "model.add(layers.Dense(64, activation='relu'))\n",
        "model.add(layers.Dense(10, activation='softmax'))\n"
      ],
      "metadata": {
        "colab": {
          "base_uri": "https://localhost:8080/"
        },
        "id": "Wdjo4VFdQ4yE",
        "outputId": "bf1c1e37-5cdb-414a-8d72-9012aed38011"
      },
      "execution_count": 14,
      "outputs": [
        {
          "output_type": "stream",
          "name": "stderr",
          "text": [
            "/usr/local/lib/python3.10/dist-packages/keras/src/layers/convolutional/base_conv.py:107: UserWarning: Do not pass an `input_shape`/`input_dim` argument to a layer. When using Sequential models, prefer using an `Input(shape)` object as the first layer in the model instead.\n",
            "  super().__init__(activity_regularizer=activity_regularizer, **kwargs)\n"
          ]
        }
      ]
    },
    {
      "cell_type": "code",
      "source": [
        "tensorboard_callback = tf.keras.callbacks.TensorBoard(logdir, histogram_freq=1) # Configura o callback do TensorBoard para monitoramento do treinamento."
      ],
      "metadata": {
        "id": "_iyzaRsnQ71l"
      },
      "execution_count": 15,
      "outputs": []
    },
    {
      "cell_type": "code",
      "source": [
        "model.compile(optimizer='adam',\n",
        "              loss='sparse_categorical_crossentropy',\n",
        "              metrics=['accuracy']) # Compila o modelo com o otimizador Adam, função de perda e métricas de precisão.\n",
        "\n",
        "model.fit(x=train_images,\n",
        "            y=train_labels,\n",
        "            epochs=5,\n",
        "            validation_data=(test_images, test_labels)) # Treina o modelo usando os dados de treino e validação, com callbacks configurados."
      ],
      "metadata": {
        "colab": {
          "base_uri": "https://localhost:8080/"
        },
        "id": "qoGh8RgPQ-Xl",
        "outputId": "cbfae763-415c-40c0-8e3c-990e614c8b51"
      },
      "execution_count": 16,
      "outputs": [
        {
          "output_type": "stream",
          "name": "stdout",
          "text": [
            "Epoch 1/5\n",
            "\u001b[1m1875/1875\u001b[0m \u001b[32m━━━━━━━━━━━━━━━━━━━━\u001b[0m\u001b[37m\u001b[0m \u001b[1m58s\u001b[0m 30ms/step - accuracy: 0.8989 - loss: 0.3340 - val_accuracy: 0.9855 - val_loss: 0.0472\n",
            "Epoch 2/5\n",
            "\u001b[1m1875/1875\u001b[0m \u001b[32m━━━━━━━━━━━━━━━━━━━━\u001b[0m\u001b[37m\u001b[0m \u001b[1m81s\u001b[0m 30ms/step - accuracy: 0.9872 - loss: 0.0435 - val_accuracy: 0.9888 - val_loss: 0.0357\n",
            "Epoch 3/5\n",
            "\u001b[1m1875/1875\u001b[0m \u001b[32m━━━━━━━━━━━━━━━━━━━━\u001b[0m\u001b[37m\u001b[0m \u001b[1m93s\u001b[0m 36ms/step - accuracy: 0.9906 - loss: 0.0311 - val_accuracy: 0.9907 - val_loss: 0.0284\n",
            "Epoch 4/5\n",
            "\u001b[1m1875/1875\u001b[0m \u001b[32m━━━━━━━━━━━━━━━━━━━━\u001b[0m\u001b[37m\u001b[0m \u001b[1m72s\u001b[0m 30ms/step - accuracy: 0.9917 - loss: 0.0250 - val_accuracy: 0.9902 - val_loss: 0.0283\n",
            "Epoch 5/5\n",
            "\u001b[1m1875/1875\u001b[0m \u001b[32m━━━━━━━━━━━━━━━━━━━━\u001b[0m\u001b[37m\u001b[0m \u001b[1m80s\u001b[0m 30ms/step - accuracy: 0.9944 - loss: 0.0170 - val_accuracy: 0.9911 - val_loss: 0.0266\n"
          ]
        },
        {
          "output_type": "execute_result",
          "data": {
            "text/plain": [
              "<keras.src.callbacks.history.History at 0x796c4d5bd2a0>"
            ]
          },
          "metadata": {},
          "execution_count": 16
        }
      ]
    },
    {
      "cell_type": "code",
      "source": [
        "# Armazena os rótulos verdadeiros para os dados de teste.\n",
        "y_true = test_labels\n",
        "\n",
        "# Usa o modelo para prever as probabilidades para cada classe nos dados de teste.\n",
        "probabilities = model.predict(test_images)\n",
        "\n",
        "# Converte as probabilidades em previsões de classe (índice da classe com maior probabilidade).\n",
        "y_pred = np.argmax(probabilities, axis=1)"
      ],
      "metadata": {
        "colab": {
          "base_uri": "https://localhost:8080/"
        },
        "id": "qS5-r_l4W2EV",
        "outputId": "3787be3a-618c-4297-9de9-2f0e7e047e11"
      },
      "execution_count": 19,
      "outputs": [
        {
          "output_type": "stream",
          "name": "stdout",
          "text": [
            "\u001b[1m313/313\u001b[0m \u001b[32m━━━━━━━━━━━━━━━━━━━━\u001b[0m\u001b[37m\u001b[0m \u001b[1m3s\u001b[0m 8ms/step\n"
          ]
        }
      ]
    },
    {
      "cell_type": "code",
      "source": [
        "classes=[0,1,2,3,4,5,6,7,8,9]"
      ],
      "metadata": {
        "id": "GKJLNSdbXD-1"
      },
      "execution_count": 20,
      "outputs": []
    },
    {
      "cell_type": "markdown",
      "source": [
        "# **Previsão e Matriz de Confusão**"
      ],
      "metadata": {
        "id": "9gB7nJoDkNkI"
      }
    },
    {
      "cell_type": "markdown",
      "source": [
        "Após o treinamento, o modelo é usado para fazer previsões, e a matriz de confusão é calculada e normalizada. A visualização e feita como heatmap"
      ],
      "metadata": {
        "id": "R8qpDnuGkXu3"
      }
    },
    {
      "cell_type": "code",
      "source": [
        "con_mat = tf.math.confusion_matrix(labels=y_true, predictions=y_pred).numpy() # Plota a matriz de confusão como um heatmap usando Seaborn e Matplotlib.\n",
        "con_mat_norm = np.around(con_mat.astype('float') / con_mat.sum(axis=1)[:, np.newaxis], decimals=2)\n",
        "\n",
        "con_mat_df = pd.DataFrame(con_mat_norm,\n",
        "                     index = classes,\n",
        "                     columns = classes)\n",
        "\n",
        "figure = plt.figure(figsize=(8, 8))\n",
        "sns.heatmap(con_mat_df, annot=True,cmap=plt.cm.Blues)\n",
        "plt.tight_layout()\n",
        "plt.ylabel('True label')\n",
        "plt.xlabel('Predicted label')\n",
        "plt.show()"
      ],
      "metadata": {
        "colab": {
          "base_uri": "https://localhost:8080/",
          "height": 826
        },
        "id": "5uGFQnJOXI3g",
        "outputId": "c4df89d5-e68b-4538-d101-d63ebfb5ed53"
      },
      "execution_count": 29,
      "outputs": [
        {
          "output_type": "display_data",
          "data": {
            "text/plain": [
              "<Figure size 800x800 with 2 Axes>"
            ],
            "image/png": "[encoded data removed]"
          },
          "metadata": {}
        }
      ]
    },
    {
      "cell_type": "markdown",
      "source": [
        "# **Cálculo das Métricas**"
      ],
      "metadata": {
        "id": "H0bfgMS0khV9"
      }
    },
    {
      "cell_type": "markdown",
      "source": [
        "Cálculo VP, VN, FP e FN para cada classe e imprime esses valores. Em seguida, foi definida uma função para calcular a acurácia, sensibilidade, especificidade, precisão e F-score"
      ],
      "metadata": {
        "id": "rQGtiXFYkkD-"
      }
    },
    {
      "cell_type": "code",
      "source": [
        "# Dicionário para armazenar os valores VP, VN, FP, FN para cada classe\n",
        "metrics_por_classe = {}\n",
        "\n",
        "# Número de classes\n",
        "num_classes = len(classes)\n",
        "\n",
        "for i in range(num_classes):\n",
        "    # Calcula VP, FP, FN para a i-ésima classe\n",
        "    metrics_por_classe[i] = {\n",
        "        'vp': con_mat[i, i],\n",
        "        'fp': con_mat[:, i].sum() - con_mat[i, i],\n",
        "        'fn': con_mat[i, :].sum() - con_mat[i, i],\n",
        "        'vn': con_mat.sum() - (con_mat[i, :].sum() + con_mat[:, i].sum() - con_mat[i, i])\n",
        "    }\n",
        "\n",
        "# Agora você tem os valores VP, VN, FP, FN para cada classe armazenados no dicionário metrics_por_classe"
      ],
      "metadata": {
        "id": "UIjG8z4JZg-V"
      },
      "execution_count": 30,
      "outputs": []
    },
    {
      "cell_type": "code",
      "source": [
        "# Imprime os valores para todas as classes\n",
        "for classe, metrics in metrics_por_classe.items():\n",
        "    print(f\"Valores para a classe {classe}:\")\n",
        "    print(f\"Verdadeiros Positivos (VP): {metrics['vp']}\")\n",
        "    print(f\"Falsos Positivos (FP): {metrics['fp']}\")\n",
        "    print(f\"Falsos Negativos (FN): {metrics['fn']}\")\n",
        "    print(f\"Verdadeiros Negativos (VN): {metrics['vn']}\")\n",
        "    print()  # Pula uma linha para melhorar a legibilidade da saída"
      ],
      "metadata": {
        "colab": {
          "base_uri": "https://localhost:8080/"
        },
        "id": "QGIXl8O_aQYN",
        "outputId": "a3c63796-6c60-48f1-d702-96ee860bc5db"
      },
      "execution_count": 31,
      "outputs": [
        {
          "output_type": "stream",
          "name": "stdout",
          "text": [
            "Valores para a classe 0:\n",
            "Verdadeiros Positivos (VP): 975\n",
            "Falsos Positivos (FP): 6\n",
            "Falsos Negativos (FN): 5\n",
            "Verdadeiros Negativos (VN): 9014\n",
            "\n",
            "Valores para a classe 1:\n",
            "Verdadeiros Positivos (VP): 1127\n",
            "Falsos Positivos (FP): 6\n",
            "Falsos Negativos (FN): 8\n",
            "Verdadeiros Negativos (VN): 8859\n",
            "\n",
            "Valores para a classe 2:\n",
            "Verdadeiros Positivos (VP): 1028\n",
            "Falsos Positivos (FP): 9\n",
            "Falsos Negativos (FN): 4\n",
            "Verdadeiros Negativos (VN): 8959\n",
            "\n",
            "Valores para a classe 3:\n",
            "Verdadeiros Positivos (VP): 1005\n",
            "Falsos Positivos (FP): 15\n",
            "Falsos Negativos (FN): 5\n",
            "Verdadeiros Negativos (VN): 8975\n",
            "\n",
            "Valores para a classe 4:\n",
            "Verdadeiros Positivos (VP): 975\n",
            "Falsos Positivos (FP): 5\n",
            "Falsos Negativos (FN): 7\n",
            "Verdadeiros Negativos (VN): 9013\n",
            "\n",
            "Valores para a classe 5:\n",
            "Verdadeiros Positivos (VP): 884\n",
            "Falsos Positivos (FP): 19\n",
            "Falsos Negativos (FN): 8\n",
            "Verdadeiros Negativos (VN): 9089\n",
            "\n",
            "Valores para a classe 6:\n",
            "Verdadeiros Positivos (VP): 940\n",
            "Falsos Positivos (FP): 5\n",
            "Falsos Negativos (FN): 18\n",
            "Verdadeiros Negativos (VN): 9037\n",
            "\n",
            "Valores para a classe 7:\n",
            "Verdadeiros Positivos (VP): 1015\n",
            "Falsos Positivos (FP): 7\n",
            "Falsos Negativos (FN): 13\n",
            "Verdadeiros Negativos (VN): 8965\n",
            "\n",
            "Valores para a classe 8:\n",
            "Verdadeiros Positivos (VP): 963\n",
            "Falsos Positivos (FP): 3\n",
            "Falsos Negativos (FN): 11\n",
            "Verdadeiros Negativos (VN): 9023\n",
            "\n",
            "Valores para a classe 9:\n",
            "Verdadeiros Positivos (VP): 999\n",
            "Falsos Positivos (FP): 14\n",
            "Falsos Negativos (FN): 10\n",
            "Verdadeiros Negativos (VN): 8977\n",
            "\n"
          ]
        }
      ]
    },
    {
      "cell_type": "code",
      "source": [
        "# Suponha que 'con_mat' já foi calculado anteriormente e que 'classes' contém todas as classes\n",
        "\n",
        "# Calcula as métricas para cada classe\n",
        "def calcular_metricas(con_mat, classe):\n",
        "    vp = con_mat[classe, classe]\n",
        "    fp = con_mat[:, classe].sum() - vp\n",
        "    fn = con_mat[classe, :].sum() - vp\n",
        "    # O cálculo de VN é uma aproximação em classificação multiclasse\n",
        "    vn = con_mat.sum() - (con_mat[classe, :].sum() + con_mat[:, classe].sum() - vp)\n",
        "\n",
        "    epsilon = 1e-7  # Para evitar divisão por zero.\n",
        "    # Calculando as métricas\n",
        "    acuracia = (vp + vn) / con_mat.sum()\n",
        "    sensibilidade = vp / (vp + fn) if (vp + fn) != 0 else 0\n",
        "    especificidade = vn / (fp + vn) if (fp + vn) != 0 else 0\n",
        "    precisao = vp / (vp + fp) if (vp + fp) != 0 else 0\n",
        "    f_score = 2 * (precisao * sensibilidade) / (precisao + sensibilidade) if (precisao + sensibilidade) != 0 else 0\n",
        "\n",
        "    return acuracia, sensibilidade, especificidade, precisao, f_score\n",
        "\n",
        "# Imprime as métricas para cada classe\n",
        "for classe in classes:\n",
        "    acuracia, sensibilidade, especificidade, precisao, f_score = calcular_metricas(con_mat, classe)\n",
        "    print(f\"Métricas para a classe {classe}:\")\n",
        "    print(f\"Acurácia: {acuracia:.2f}\")\n",
        "    print(f\"Sensibilidade: {sensibilidade:.2f}\")\n",
        "    print(f\"Especificidade: {especificidade:.2f}\")\n",
        "    print(f\"Precisão: {precisao:.2f}\")\n",
        "    print(f\"F-score: {f_score:.2f}\")\n",
        "    print()  # Pula uma linha para melhorar a legibilidade da saída"
      ],
      "metadata": {
        "colab": {
          "base_uri": "https://localhost:8080/"
        },
        "id": "92l_lvMjdne9",
        "outputId": "1452b832-6d57-47de-a4e7-dd783301d11f"
      },
      "execution_count": 32,
      "outputs": [
        {
          "output_type": "stream",
          "name": "stdout",
          "text": [
            "Métricas para a classe 0:\n",
            "Acurácia: 1.00\n",
            "Sensibilidade: 0.99\n",
            "Especificidade: 1.00\n",
            "Precisão: 0.99\n",
            "F-score: 0.99\n",
            "\n",
            "Métricas para a classe 1:\n",
            "Acurácia: 1.00\n",
            "Sensibilidade: 0.99\n",
            "Especificidade: 1.00\n",
            "Precisão: 0.99\n",
            "F-score: 0.99\n",
            "\n",
            "Métricas para a classe 2:\n",
            "Acurácia: 1.00\n",
            "Sensibilidade: 1.00\n",
            "Especificidade: 1.00\n",
            "Precisão: 0.99\n",
            "F-score: 0.99\n",
            "\n",
            "Métricas para a classe 3:\n",
            "Acurácia: 1.00\n",
            "Sensibilidade: 1.00\n",
            "Especificidade: 1.00\n",
            "Precisão: 0.99\n",
            "F-score: 0.99\n",
            "\n",
            "Métricas para a classe 4:\n",
            "Acurácia: 1.00\n",
            "Sensibilidade: 0.99\n",
            "Especificidade: 1.00\n",
            "Precisão: 0.99\n",
            "F-score: 0.99\n",
            "\n",
            "Métricas para a classe 5:\n",
            "Acurácia: 1.00\n",
            "Sensibilidade: 0.99\n",
            "Especificidade: 1.00\n",
            "Precisão: 0.98\n",
            "F-score: 0.98\n",
            "\n",
            "Métricas para a classe 6:\n",
            "Acurácia: 1.00\n",
            "Sensibilidade: 0.98\n",
            "Especificidade: 1.00\n",
            "Precisão: 0.99\n",
            "F-score: 0.99\n",
            "\n",
            "Métricas para a classe 7:\n",
            "Acurácia: 1.00\n",
            "Sensibilidade: 0.99\n",
            "Especificidade: 1.00\n",
            "Precisão: 0.99\n",
            "F-score: 0.99\n",
            "\n",
            "Métricas para a classe 8:\n",
            "Acurácia: 1.00\n",
            "Sensibilidade: 0.99\n",
            "Especificidade: 1.00\n",
            "Precisão: 1.00\n",
            "F-score: 0.99\n",
            "\n",
            "Métricas para a classe 9:\n",
            "Acurácia: 1.00\n",
            "Sensibilidade: 0.99\n",
            "Especificidade: 1.00\n",
            "Precisão: 0.99\n",
            "F-score: 0.99\n",
            "\n"
          ]
        }
      ]
    },
    {
      "cell_type": "markdown",
      "source": [
        "# **Gráfico da curva ROC (Receiver Operating Characteristic) para um modelo de classificação multiclasse**"
      ],
      "metadata": {
        "id": "SfrzE_HUeVi9"
      }
    },
    {
      "cell_type": "code",
      "source": [
        "!pip install scikit-learn #instala a biblioteca sklearn"
      ],
      "metadata": {
        "colab": {
          "base_uri": "https://localhost:8080/"
        },
        "id": "mprlWR_IeXxu",
        "outputId": "bd3e4d9f-28db-49f2-b81a-74f513f6a901"
      },
      "execution_count": 26,
      "outputs": [
        {
          "output_type": "stream",
          "name": "stdout",
          "text": [
            "Requirement already satisfied: scikit-learn in /usr/local/lib/python3.10/dist-packages (1.6.0)\n",
            "Requirement already satisfied: numpy>=1.19.5 in /usr/local/lib/python3.10/dist-packages (from scikit-learn) (1.26.4)\n",
            "Requirement already satisfied: scipy>=1.6.0 in /usr/local/lib/python3.10/dist-packages (from scikit-learn) (1.13.1)\n",
            "Requirement already satisfied: joblib>=1.2.0 in /usr/local/lib/python3.10/dist-packages (from scikit-learn) (1.4.2)\n",
            "Requirement already satisfied: threadpoolctl>=3.1.0 in /usr/local/lib/python3.10/dist-packages (from scikit-learn) (3.5.0)\n"
          ]
        }
      ]
    },
    {
      "cell_type": "markdown",
      "source": [
        "# **Cálculo e Plotagem da Curva ROC**"
      ],
      "metadata": {
        "id": "ddLrJLNmejdF"
      }
    },
    {
      "cell_type": "code",
      "source": [
        "from sklearn.metrics import roc_curve, auc\n",
        "import matplotlib.pyplot as plt\n",
        "\n",
        "# Suponha que 'probabilities' contém as probabilidades previstas pelo modelo para cada classe e 'y_true' os rótulos verdadeiros\n",
        "\n",
        "# One-hot encoding dos rótulos verdadeiros para uso na curva ROC\n",
        "y_true_one_hot = tf.keras.utils.to_categorical(y_true, num_classes=len(classes))\n",
        "\n",
        "# Dicionário para armazenar as curvas ROC e os valores de AUC para cada classe\n",
        "roc_curves = {}\n",
        "auc_scores = {}\n",
        "\n",
        "# Calcula a curva ROC e AUC para cada classe\n",
        "for i in range(len(classes)):\n",
        "    fpr, tpr, _ = roc_curve(y_true_one_hot[:, i], probabilities[:, i])\n",
        "    roc_curves[i] = (fpr, tpr)\n",
        "    auc_scores[i] = auc(fpr, tpr)\n",
        "\n",
        "# Plotando a curva ROC para cada classe\n",
        "plt.figure(figsize=(10, 7))\n",
        "plt.plot([0, 1], [0, 1], 'k--')  # Linha diagonal para referência\n",
        "for i, (fpr, tpr) in roc_curves.items():\n",
        "    plt.plot(fpr, tpr, label=f'Classe {i} (AUC = {auc_scores[i]:.2f})')\n",
        "plt.xlabel('Taxa de Falsos Positivos')\n",
        "plt.ylabel('Taxa de Verdadeiros Positivos')\n",
        "plt.title('Curva ROC para cada classe')\n",
        "plt.legend(loc='best')\n",
        "plt.show()"
      ],
      "metadata": {
        "colab": {
          "base_uri": "https://localhost:8080/",
          "height": 641
        },
        "id": "YgipqeXCek-1",
        "outputId": "c610d9b2-ee78-4a11-b37b-624bfb5ee344"
      },
      "execution_count": 33,
      "outputs": [
        {
          "output_type": "display_data",
          "data": {
            "text/plain": [
              "<Figure size 1000x700 with 1 Axes>"
            ],
            "image/png": "[encoded data removed]"
          },
          "metadata": {}
        }
      ]
    },
    {
      "cell_type": "markdown",
      "source": [
        "**Observações Importantes:**\n",
        "\n",
        "**Acurácia Global vs. Acurácia por Classe:** A função calcular_metricas calcula a acurácia global, e não a acurácia por classe. Para calcular a acurácia por classe, teria que ajustar a fórmula para considerar a contribuição proporcional de cada classe.\n",
        "\n",
        "**Divisão por Zero:** Adicionei uma pequena constante epsilon para evitar divisões por zero nas métricas que envolvem divisão. Isso é uma prática comum para garantir que não ocorram erros de divisão.\n",
        "\n"
      ],
      "metadata": {
        "id": "YxbXRWUFl-NF"
      }
    }
  ]
}